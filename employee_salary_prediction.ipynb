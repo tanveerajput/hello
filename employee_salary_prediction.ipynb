{
 "cells": [
  {
   "cell_type": "markdown",
   "id": "4e183710",
   "metadata": {},
   "source": [
    "# Employee Salary Prediction using Machine Learning\n",
    "This project predicts employee salaries based on experience, education, job role, location, and performance rating using Linear Regression and Random Forest."
   ]
  },
  {
   "cell_type": "code",
   "execution_count": null,
   "id": "969caa86",
   "metadata": {},
   "outputs": [],
   "source": [
    "import pandas as pd\n",
    "import numpy as np\n",
    "import matplotlib.pyplot as plt\n",
    "import seaborn as sns\n",
    "\n",
    "from sklearn.model_selection import train_test_split\n",
    "from sklearn.preprocessing import LabelEncoder\n",
    "from sklearn.linear_model import LinearRegression\n",
    "from sklearn.ensemble import RandomForestRegressor\n",
    "from sklearn.metrics import mean_squared_error, r2_score"
   ]
  },
  {
   "cell_type": "code",
   "execution_count": null,
   "id": "299da8ec",
   "metadata": {},
   "outputs": [],
   "source": [
    "import random\n",
    "\n",
    "roles = ['Developer', 'Manager', 'Analyst']\n",
    "education = ['Bachelor', 'Master', 'PhD']\n",
    "locations = ['New York', 'Delhi', 'London']\n",
    "\n",
    "data = []\n",
    "\n",
    "for _ in range(500):\n",
    "    exp = random.randint(1, 20)\n",
    "    edu = random.choice(education)\n",
    "    role = random.choice(roles)\n",
    "    loc = random.choice(locations)\n",
    "    rating = random.randint(1, 5)\n",
    "\n",
    "    base_salary = 30000\n",
    "    salary = base_salary + (exp * 2500) + (rating * 2000)\n",
    "\n",
    "    if edu == 'Master':\n",
    "        salary += 5000\n",
    "    elif edu == 'PhD':\n",
    "        salary += 10000\n",
    "\n",
    "    if role == 'Manager':\n",
    "        salary += 10000\n",
    "    elif role == 'Analyst':\n",
    "        salary += 5000\n",
    "\n",
    "    salary += random.randint(-3000, 3000)  # Noise\n",
    "\n",
    "    data.append([exp, edu, role, loc, rating, salary])\n",
    "\n",
    "df = pd.DataFrame(data, columns=['Experience', 'Education', 'JobRole', 'Location', 'PerformanceRating', 'Salary'])\n",
    "df.to_csv('employee_data.csv', index=False)\n",
    "df.head()"
   ]
  },
  {
   "cell_type": "code",
   "execution_count": null,
   "id": "97b59ffb",
   "metadata": {},
   "outputs": [],
   "source": [
    "df = pd.read_csv('employee_data.csv')\n",
    "\n",
    "# Encode categorical features\n",
    "le = LabelEncoder()\n",
    "df['Education'] = le.fit_transform(df['Education'])\n",
    "df['JobRole'] = le.fit_transform(df['JobRole'])\n",
    "df['Location'] = le.fit_transform(df['Location'])"
   ]
  },
  {
   "cell_type": "code",
   "execution_count": null,
   "id": "3ca58929",
   "metadata": {},
   "outputs": [],
   "source": [
    "X = df.drop('Salary', axis=1)\n",
    "y = df['Salary']\n",
    "\n",
    "X_train, X_test, y_train, y_test = train_test_split(X, y, test_size=0.2, random_state=42)"
   ]
  },
  {
   "cell_type": "code",
   "execution_count": null,
   "id": "24ff9701",
   "metadata": {},
   "outputs": [],
   "source": [
    "lr = LinearRegression()\n",
    "lr.fit(X_train, y_train)\n",
    "lr_preds = lr.predict(X_test)\n",
    "\n",
    "print(\"Linear Regression R2 Score:\", r2_score(y_test, lr_preds))\n",
    "print(\"Linear Regression RMSE:\", np.sqrt(mean_squared_error(y_test, lr_preds)))"
   ]
  },
  {
   "cell_type": "code",
   "execution_count": null,
   "id": "4e7627db",
   "metadata": {},
   "outputs": [],
   "source": [
    "rf = RandomForestRegressor(n_estimators=100, random_state=42)\n",
    "rf.fit(X_train, y_train)\n",
    "rf_preds = rf.predict(X_test)\n",
    "\n",
    "print(\"Random Forest R2 Score:\", r2_score(y_test, rf_preds))\n",
    "print(\"Random Forest RMSE:\", np.sqrt(mean_squared_error(y_test, rf_preds)))"
   ]
  },
  {
   "cell_type": "code",
   "execution_count": null,
   "id": "a85dc828",
   "metadata": {},
   "outputs": [],
   "source": [
    "importances = rf.feature_importances_\n",
    "features = X.columns\n",
    "\n",
    "plt.figure(figsize=(8, 5))\n",
    "sns.barplot(x=importances, y=features)\n",
    "plt.title(\"Feature Importance\")\n",
    "plt.xlabel(\"Importance\")\n",
    "plt.ylabel(\"Features\")\n",
    "plt.show()"
   ]
  }
 ],
 "metadata": {},
 "nbformat": 4,
 "nbformat_minor": 5
}
